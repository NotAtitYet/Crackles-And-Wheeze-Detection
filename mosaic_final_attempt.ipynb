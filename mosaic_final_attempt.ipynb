{
  "nbformat": 4,
  "nbformat_minor": 0,
  "metadata": {
    "colab": {
      "provenance": []
    },
    "kernelspec": {
      "name": "python3",
      "display_name": "Python 3"
    },
    "language_info": {
      "name": "python"
    },
    "accelerator": "GPU",
    "gpuClass": "standard"
  },
  "cells": [
    {
      "cell_type": "code",
      "source": [
        "!unzip /content/drive/MyDrive/Copy_of_Mosaic23_PS1_TrainData.zip"
      ],
      "metadata": {
        "id": "Y0wWkUobZWdK"
      },
      "execution_count": null,
      "outputs": []
    },
    {
      "cell_type": "code",
      "source": [
        "### importing libraries\n",
        "import os\n",
        "import librosa\n",
        "import numpy as np\n",
        "import pandas as pd"
      ],
      "metadata": {
        "id": "cKATSj03ZZda"
      },
      "execution_count": null,
      "outputs": []
    },
    {
      "cell_type": "code",
      "source": [
        "from sklearn.model_selection import train_test_split"
      ],
      "metadata": {
        "id": "lY_SGv0Kanfi"
      },
      "execution_count": null,
      "outputs": []
    },
    {
      "cell_type": "code",
      "source": [
        "def extract(file_path):\n",
        "    # Load audio file\n",
        "    audio, sample_rate = librosa.load(file_path, duration=20)\n",
        "\n",
        "    # Convert audio to spectrogram\n",
        "    spectrogram = librosa.feature.melspectrogram(y=audio, sr=sample_rate, n_mels=128, hop_length=512, n_fft=2048)\n",
        "\n",
        "    # Convert spectrogram to log scale (dB)\n",
        "    log_spectrogram = librosa.amplitude_to_db(spectrogram, ref=np.max)\n",
        "\n",
        "    return log_spectrogram.T"
      ],
      "metadata": {
        "id": "GY6XkIGFapBJ"
      },
      "execution_count": null,
      "outputs": []
    },
    {
      "cell_type": "code",
      "source": [
        "## Getting all the Audio and Text file names\n",
        "directory = '/content/ICBHI_final_database'\n",
        "audio_file_names=[]\n",
        "text_file_names=[]\n",
        "for file in os.listdir(directory):\n",
        "  if file.endswith('.wav'):\n",
        "    audio_file_names.append(os.path.join(directory,file))\n",
        "    name=file.split('.')[0]\n",
        "    text_file_names.append(os.path.join(directory,name + '.txt'))"
      ],
      "metadata": {
        "id": "EqOj1gJda-DF"
      },
      "execution_count": null,
      "outputs": []
    },
    {
      "cell_type": "code",
      "source": [
        "## Now that we have got all the file names with we should get into loading the audio file and extracting the features from the audio files\n",
        "## And extract the labels from the corresponding text files\n",
        "audio_features=[]\n",
        "audio_labels=[]\n",
        "\n",
        "for index in range(len(audio_file_names)):\n",
        "\n",
        "  ## here we are receiving the features from the audio files as an array of size 128 X 862\n",
        "  spec = extract(audio_file_names[index])\n",
        "\n",
        "  ## Now we need to read each corresponding text files for the labels of crackles and wheezes\n",
        "  df=pd.read_csv(text_file_names[index], sep='\\t', header=None, names=['start_time', 'end_time', 'crackle', 'wheeze'])\n",
        "  temp_label=[0,0]\n",
        "  for i, row in df.iterrows():\n",
        "\n",
        "    ## The start and end time are float values so we convert them into proper int values so as to take proper segments from it\n",
        "    start_idx = int(float(row['start_time']) / 0.04644)\n",
        "    end_idx = int(float(row['end_time']) / 0.04644)\n",
        "    if row['crackle']==1:\n",
        "      temp_label[0]=1\n",
        "    if row['wheeze']==1:\n",
        "      temp_label[1]=1\n",
        "    audio_labels.append(temp_label)\n",
        "\n",
        "    ## now that we have our labels we map the segment of the audio features array to its corresponding label\n",
        "    ## we do this so that our model can understand which feature is a crackle and which is a wheeze\n",
        "    audio_frame = spec[:, start_idx:end_idx]\n",
        "    audio_features.append(audio_frame)\n"
      ],
      "metadata": {
        "id": "-oWvIbnNbLf9"
      },
      "execution_count": null,
      "outputs": []
    },
    {
      "cell_type": "code",
      "source": [
        "# Convert the list of features and labels to numpy arrays\n",
        "max_len = 390  # 20s / (512/22050) ≈ 390\n",
        "audio_features = np.zeros((len(audio_features), 128, max_len))\n",
        "for i in range(len(audio_features)):\n",
        "    audio_features[i] = librosa.util.fix_length(audio_features[i], size=max_len, axis=1)\n",
        "audio_features = np.expand_dims(audio_features, axis=-1)\n",
        "audio_labels = np.array(audio_labels)"
      ],
      "metadata": {
        "id": "7SMRKm-rgCnG"
      },
      "execution_count": null,
      "outputs": []
    },
    {
      "cell_type": "code",
      "source": [
        "audio_features.shape"
      ],
      "metadata": {
        "colab": {
          "base_uri": "https://localhost:8080/"
        },
        "id": "ggOX38vpMoiE",
        "outputId": "749a88bc-8fb6-4da1-8a65-b553bf7501a6"
      },
      "execution_count": null,
      "outputs": [
        {
          "output_type": "execute_result",
          "data": {
            "text/plain": [
              "(6110, 128, 390, 1)"
            ]
          },
          "metadata": {},
          "execution_count": 8
        }
      ]
    },
    {
      "cell_type": "code",
      "source": [
        "audio_labels.shape"
      ],
      "metadata": {
        "colab": {
          "base_uri": "https://localhost:8080/"
        },
        "id": "PV3cD9LJM5TQ",
        "outputId": "bf71610c-358a-4b7d-a0ba-a33c56c7bd79"
      },
      "execution_count": null,
      "outputs": [
        {
          "output_type": "execute_result",
          "data": {
            "text/plain": [
              "(6110, 2)"
            ]
          },
          "metadata": {},
          "execution_count": 9
        }
      ]
    },
    {
      "cell_type": "code",
      "source": [
        "import tensorflow as tf\n",
        "\n",
        "# Convert the numpy array to a TensorFlow tensor\n",
        "features_tensor = tf.convert_to_tensor(audio_features)"
      ],
      "metadata": {
        "id": "thFcUgHWhKqP"
      },
      "execution_count": null,
      "outputs": []
    },
    {
      "cell_type": "code",
      "source": [
        "X_train, X_test, y_train, y_test = train_test_split(audio_features, audio_labels, test_size=0.2, random_state=42)"
      ],
      "metadata": {
        "id": "Ai2n4s1ghOKP"
      },
      "execution_count": null,
      "outputs": []
    },
    {
      "cell_type": "code",
      "source": [
        "from tensorflow.keras import layers, models\n",
        "\n",
        "## Defining the model\n",
        "model = models.Sequential()\n",
        "model.add(layers.Conv2D(32, (3, 3), activation='relu', input_shape=(128, 390, 1)))\n",
        "model.add(layers.MaxPooling2D((2, 2)))\n",
        "model.add(layers.Conv2D(64, (3, 3), activation='relu'))\n",
        "model.add(layers.MaxPooling2D((2, 2)))\n",
        "model.add(layers.Conv2D(128, (3, 3), activation='relu'))\n",
        "model.add(layers.MaxPooling2D((2, 2)))\n",
        "model.add(layers.Flatten())\n",
        "model.add(layers.Dense(64, activation='relu'))\n",
        "model.add(layers.Dense(2, activation='sigmoid'))\n",
        "\n",
        "model.summary()\n"
      ],
      "metadata": {
        "id": "oQSrFHlnhSDW",
        "colab": {
          "base_uri": "https://localhost:8080/"
        },
        "outputId": "d226c409-2a8b-460f-954f-9e72106f5084"
      },
      "execution_count": null,
      "outputs": [
        {
          "output_type": "stream",
          "name": "stdout",
          "text": [
            "Model: \"sequential\"\n",
            "_________________________________________________________________\n",
            " Layer (type)                Output Shape              Param #   \n",
            "=================================================================\n",
            " conv2d (Conv2D)             (None, 126, 388, 32)      320       \n",
            "                                                                 \n",
            " max_pooling2d (MaxPooling2D  (None, 63, 194, 32)      0         \n",
            " )                                                               \n",
            "                                                                 \n",
            " conv2d_1 (Conv2D)           (None, 61, 192, 64)       18496     \n",
            "                                                                 \n",
            " max_pooling2d_1 (MaxPooling  (None, 30, 96, 64)       0         \n",
            " 2D)                                                             \n",
            "                                                                 \n",
            " conv2d_2 (Conv2D)           (None, 28, 94, 128)       73856     \n",
            "                                                                 \n",
            " max_pooling2d_2 (MaxPooling  (None, 14, 47, 128)      0         \n",
            " 2D)                                                             \n",
            "                                                                 \n",
            " flatten (Flatten)           (None, 84224)             0         \n",
            "                                                                 \n",
            " dense (Dense)               (None, 64)                5390400   \n",
            "                                                                 \n",
            " dense_1 (Dense)             (None, 2)                 130       \n",
            "                                                                 \n",
            "=================================================================\n",
            "Total params: 5,483,202\n",
            "Trainable params: 5,483,202\n",
            "Non-trainable params: 0\n",
            "_________________________________________________________________\n"
          ]
        }
      ]
    },
    {
      "cell_type": "code",
      "source": [
        "model.compile(optimizer='adam',  loss='binary_crossentropy', metrics=['accuracy'])"
      ],
      "metadata": {
        "id": "V7pr9nRkhWwQ"
      },
      "execution_count": null,
      "outputs": []
    },
    {
      "cell_type": "code",
      "source": [
        "history = model.fit(X_train,y_train,epochs=10,validation_split=0.05,batch_size=64)"
      ],
      "metadata": {
        "id": "J5jAKN5UhXjA",
        "colab": {
          "base_uri": "https://localhost:8080/"
        },
        "outputId": "34a7f1ea-93d3-44e0-ed75-e36665b25378"
      },
      "execution_count": null,
      "outputs": [
        {
          "output_type": "stream",
          "name": "stdout",
          "text": [
            "Epoch 1/10\n",
            "73/73 [==============================] - 21s 116ms/step - loss: 0.6903 - accuracy: 0.8602 - val_loss: 0.6872 - val_accuracy: 0.8531\n",
            "Epoch 2/10\n",
            "73/73 [==============================] - 6s 76ms/step - loss: 0.6856 - accuracy: 0.8602 - val_loss: 0.6826 - val_accuracy: 0.8531\n",
            "Epoch 3/10\n",
            "73/73 [==============================] - 6s 79ms/step - loss: 0.6821 - accuracy: 0.8602 - val_loss: 0.6790 - val_accuracy: 0.8531\n",
            "Epoch 4/10\n",
            "73/73 [==============================] - 6s 78ms/step - loss: 0.6794 - accuracy: 0.8602 - val_loss: 0.6762 - val_accuracy: 0.8531\n",
            "Epoch 5/10\n",
            "73/73 [==============================] - 5s 75ms/step - loss: 0.6774 - accuracy: 0.8602 - val_loss: 0.6741 - val_accuracy: 0.8531\n",
            "Epoch 6/10\n",
            "73/73 [==============================] - 6s 78ms/step - loss: 0.6760 - accuracy: 0.8602 - val_loss: 0.6726 - val_accuracy: 0.8531\n",
            "Epoch 7/10\n",
            "73/73 [==============================] - 6s 76ms/step - loss: 0.6749 - accuracy: 0.8602 - val_loss: 0.6713 - val_accuracy: 0.8531\n",
            "Epoch 8/10\n",
            "73/73 [==============================] - 6s 76ms/step - loss: 0.6742 - accuracy: 0.8602 - val_loss: 0.6704 - val_accuracy: 0.8531\n",
            "Epoch 9/10\n",
            "73/73 [==============================] - 6s 80ms/step - loss: 0.6736 - accuracy: 0.8602 - val_loss: 0.6697 - val_accuracy: 0.8531\n",
            "Epoch 10/10\n",
            "73/73 [==============================] - 6s 76ms/step - loss: 0.6732 - accuracy: 0.8602 - val_loss: 0.6692 - val_accuracy: 0.8531\n"
          ]
        }
      ]
    },
    {
      "cell_type": "code",
      "source": [
        "y_pred = model.predict(X_test)\n",
        "y_pred.flatten()"
      ],
      "metadata": {
        "id": "OoZDVK-Ihgcm",
        "colab": {
          "base_uri": "https://localhost:8080/"
        },
        "outputId": "bd9466d2-8b45-4139-d333-837535ed7549"
      },
      "execution_count": null,
      "outputs": [
        {
          "output_type": "stream",
          "name": "stdout",
          "text": [
            "39/39 [==============================] - 1s 14ms/step\n"
          ]
        },
        {
          "output_type": "execute_result",
          "data": {
            "text/plain": [
              "array([0.55787253, 0.39544937, 0.55787253, ..., 0.39544937, 0.55787253,\n",
              "       0.39544937], dtype=float32)"
            ]
          },
          "metadata": {},
          "execution_count": 15
        }
      ]
    },
    {
      "cell_type": "code",
      "source": [
        "model.evaluate(X_test,y_test)"
      ],
      "metadata": {
        "id": "FUR4Ow8ghkkf",
        "colab": {
          "base_uri": "https://localhost:8080/"
        },
        "outputId": "bd4fbd83-1b4f-4576-b158-202beef0d638"
      },
      "execution_count": null,
      "outputs": [
        {
          "output_type": "stream",
          "name": "stdout",
          "text": [
            "39/39 [==============================] - 1s 14ms/step - loss: 0.6780 - accuracy: 0.8421\n"
          ]
        },
        {
          "output_type": "execute_result",
          "data": {
            "text/plain": [
              "[0.6780111789703369, 0.8420621752738953]"
            ]
          },
          "metadata": {},
          "execution_count": 16
        }
      ]
    },
    {
      "cell_type": "code",
      "source": [
        "tf.keras.models.save_model(model,'model.h5')"
      ],
      "metadata": {
        "id": "hx-ctYnchpz4"
      },
      "execution_count": null,
      "outputs": []
    },
    {
      "cell_type": "code",
      "source": [
        "print(audio_features)"
      ],
      "metadata": {
        "colab": {
          "base_uri": "https://localhost:8080/"
        },
        "id": "SZtAgqaqXRXf",
        "outputId": "4c5b45df-1b7a-4630-95ab-0a38c8dcf38d"
      },
      "execution_count": null,
      "outputs": [
        {
          "output_type": "stream",
          "name": "stdout",
          "text": [
            "[[[[0.]\n",
            "   [0.]\n",
            "   [0.]\n",
            "   ...\n",
            "   [0.]\n",
            "   [0.]\n",
            "   [0.]]\n",
            "\n",
            "  [[0.]\n",
            "   [0.]\n",
            "   [0.]\n",
            "   ...\n",
            "   [0.]\n",
            "   [0.]\n",
            "   [0.]]\n",
            "\n",
            "  [[0.]\n",
            "   [0.]\n",
            "   [0.]\n",
            "   ...\n",
            "   [0.]\n",
            "   [0.]\n",
            "   [0.]]\n",
            "\n",
            "  ...\n",
            "\n",
            "  [[0.]\n",
            "   [0.]\n",
            "   [0.]\n",
            "   ...\n",
            "   [0.]\n",
            "   [0.]\n",
            "   [0.]]\n",
            "\n",
            "  [[0.]\n",
            "   [0.]\n",
            "   [0.]\n",
            "   ...\n",
            "   [0.]\n",
            "   [0.]\n",
            "   [0.]]\n",
            "\n",
            "  [[0.]\n",
            "   [0.]\n",
            "   [0.]\n",
            "   ...\n",
            "   [0.]\n",
            "   [0.]\n",
            "   [0.]]]\n",
            "\n",
            "\n",
            " [[[0.]\n",
            "   [0.]\n",
            "   [0.]\n",
            "   ...\n",
            "   [0.]\n",
            "   [0.]\n",
            "   [0.]]\n",
            "\n",
            "  [[0.]\n",
            "   [0.]\n",
            "   [0.]\n",
            "   ...\n",
            "   [0.]\n",
            "   [0.]\n",
            "   [0.]]\n",
            "\n",
            "  [[0.]\n",
            "   [0.]\n",
            "   [0.]\n",
            "   ...\n",
            "   [0.]\n",
            "   [0.]\n",
            "   [0.]]\n",
            "\n",
            "  ...\n",
            "\n",
            "  [[0.]\n",
            "   [0.]\n",
            "   [0.]\n",
            "   ...\n",
            "   [0.]\n",
            "   [0.]\n",
            "   [0.]]\n",
            "\n",
            "  [[0.]\n",
            "   [0.]\n",
            "   [0.]\n",
            "   ...\n",
            "   [0.]\n",
            "   [0.]\n",
            "   [0.]]\n",
            "\n",
            "  [[0.]\n",
            "   [0.]\n",
            "   [0.]\n",
            "   ...\n",
            "   [0.]\n",
            "   [0.]\n",
            "   [0.]]]\n",
            "\n",
            "\n",
            " [[[0.]\n",
            "   [0.]\n",
            "   [0.]\n",
            "   ...\n",
            "   [0.]\n",
            "   [0.]\n",
            "   [0.]]\n",
            "\n",
            "  [[0.]\n",
            "   [0.]\n",
            "   [0.]\n",
            "   ...\n",
            "   [0.]\n",
            "   [0.]\n",
            "   [0.]]\n",
            "\n",
            "  [[0.]\n",
            "   [0.]\n",
            "   [0.]\n",
            "   ...\n",
            "   [0.]\n",
            "   [0.]\n",
            "   [0.]]\n",
            "\n",
            "  ...\n",
            "\n",
            "  [[0.]\n",
            "   [0.]\n",
            "   [0.]\n",
            "   ...\n",
            "   [0.]\n",
            "   [0.]\n",
            "   [0.]]\n",
            "\n",
            "  [[0.]\n",
            "   [0.]\n",
            "   [0.]\n",
            "   ...\n",
            "   [0.]\n",
            "   [0.]\n",
            "   [0.]]\n",
            "\n",
            "  [[0.]\n",
            "   [0.]\n",
            "   [0.]\n",
            "   ...\n",
            "   [0.]\n",
            "   [0.]\n",
            "   [0.]]]\n",
            "\n",
            "\n",
            " ...\n",
            "\n",
            "\n",
            " [[[0.]\n",
            "   [0.]\n",
            "   [0.]\n",
            "   ...\n",
            "   [0.]\n",
            "   [0.]\n",
            "   [0.]]\n",
            "\n",
            "  [[0.]\n",
            "   [0.]\n",
            "   [0.]\n",
            "   ...\n",
            "   [0.]\n",
            "   [0.]\n",
            "   [0.]]\n",
            "\n",
            "  [[0.]\n",
            "   [0.]\n",
            "   [0.]\n",
            "   ...\n",
            "   [0.]\n",
            "   [0.]\n",
            "   [0.]]\n",
            "\n",
            "  ...\n",
            "\n",
            "  [[0.]\n",
            "   [0.]\n",
            "   [0.]\n",
            "   ...\n",
            "   [0.]\n",
            "   [0.]\n",
            "   [0.]]\n",
            "\n",
            "  [[0.]\n",
            "   [0.]\n",
            "   [0.]\n",
            "   ...\n",
            "   [0.]\n",
            "   [0.]\n",
            "   [0.]]\n",
            "\n",
            "  [[0.]\n",
            "   [0.]\n",
            "   [0.]\n",
            "   ...\n",
            "   [0.]\n",
            "   [0.]\n",
            "   [0.]]]\n",
            "\n",
            "\n",
            " [[[0.]\n",
            "   [0.]\n",
            "   [0.]\n",
            "   ...\n",
            "   [0.]\n",
            "   [0.]\n",
            "   [0.]]\n",
            "\n",
            "  [[0.]\n",
            "   [0.]\n",
            "   [0.]\n",
            "   ...\n",
            "   [0.]\n",
            "   [0.]\n",
            "   [0.]]\n",
            "\n",
            "  [[0.]\n",
            "   [0.]\n",
            "   [0.]\n",
            "   ...\n",
            "   [0.]\n",
            "   [0.]\n",
            "   [0.]]\n",
            "\n",
            "  ...\n",
            "\n",
            "  [[0.]\n",
            "   [0.]\n",
            "   [0.]\n",
            "   ...\n",
            "   [0.]\n",
            "   [0.]\n",
            "   [0.]]\n",
            "\n",
            "  [[0.]\n",
            "   [0.]\n",
            "   [0.]\n",
            "   ...\n",
            "   [0.]\n",
            "   [0.]\n",
            "   [0.]]\n",
            "\n",
            "  [[0.]\n",
            "   [0.]\n",
            "   [0.]\n",
            "   ...\n",
            "   [0.]\n",
            "   [0.]\n",
            "   [0.]]]\n",
            "\n",
            "\n",
            " [[[0.]\n",
            "   [0.]\n",
            "   [0.]\n",
            "   ...\n",
            "   [0.]\n",
            "   [0.]\n",
            "   [0.]]\n",
            "\n",
            "  [[0.]\n",
            "   [0.]\n",
            "   [0.]\n",
            "   ...\n",
            "   [0.]\n",
            "   [0.]\n",
            "   [0.]]\n",
            "\n",
            "  [[0.]\n",
            "   [0.]\n",
            "   [0.]\n",
            "   ...\n",
            "   [0.]\n",
            "   [0.]\n",
            "   [0.]]\n",
            "\n",
            "  ...\n",
            "\n",
            "  [[0.]\n",
            "   [0.]\n",
            "   [0.]\n",
            "   ...\n",
            "   [0.]\n",
            "   [0.]\n",
            "   [0.]]\n",
            "\n",
            "  [[0.]\n",
            "   [0.]\n",
            "   [0.]\n",
            "   ...\n",
            "   [0.]\n",
            "   [0.]\n",
            "   [0.]]\n",
            "\n",
            "  [[0.]\n",
            "   [0.]\n",
            "   [0.]\n",
            "   ...\n",
            "   [0.]\n",
            "   [0.]\n",
            "   [0.]]]]\n"
          ]
        }
      ]
    },
    {
      "cell_type": "code",
      "source": [
        "y_test"
      ],
      "metadata": {
        "colab": {
          "base_uri": "https://localhost:8080/"
        },
        "id": "kHdiGutHXsKa",
        "outputId": "26e555fa-09f8-421d-b923-86fdd7b2315d"
      },
      "execution_count": null,
      "outputs": [
        {
          "output_type": "execute_result",
          "data": {
            "text/plain": [
              "array([[1, 0],\n",
              "       [0, 0],\n",
              "       [0, 1],\n",
              "       ...,\n",
              "       [1, 0],\n",
              "       [1, 1],\n",
              "       [1, 1]])"
            ]
          },
          "metadata": {},
          "execution_count": 23
        }
      ]
    }
  ]
}
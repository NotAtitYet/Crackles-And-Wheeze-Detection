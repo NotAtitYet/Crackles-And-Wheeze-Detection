{
  "nbformat": 4,
  "nbformat_minor": 0,
  "metadata": {
    "colab": {
      "provenance": [],
      "mount_file_id": "12aAMRJBH2AFX1FEfnekhyOnLSiKISJCc",
      "authorship_tag": "ABX9TyOQgxJXye9Q1+yyl62VwLX2",
      "include_colab_link": true
    },
    "kernelspec": {
      "name": "python3",
      "display_name": "Python 3"
    },
    "language_info": {
      "name": "python"
    },
    "gpuClass": "standard"
  },
  "cells": [
    {
      "cell_type": "markdown",
      "metadata": {
        "id": "view-in-github",
        "colab_type": "text"
      },
      "source": [
        "<a href=\"https://colab.research.google.com/github/NotAtitYet/Crackles-And-Wheeze-Detection/blob/main/mosaic_test.ipynb\" target=\"_parent\"><img src=\"https://colab.research.google.com/assets/colab-badge.svg\" alt=\"Open In Colab\"/></a>"
      ]
    },
    {
      "cell_type": "code",
      "execution_count": null,
      "metadata": {
        "id": "sl-lbUjLCm62"
      },
      "outputs": [],
      "source": [
        "### importing libraries\n",
        "import os\n",
        "import librosa\n",
        "import numpy as np\n",
        "import pandas as pd"
      ]
    },
    {
      "cell_type": "code",
      "source": [],
      "metadata": {
        "id": "G9w-rpfUDF9O"
      },
      "execution_count": null,
      "outputs": []
    },
    {
      "cell_type": "code",
      "source": [
        "!unzip /content/Testfile.zip"
      ],
      "metadata": {
        "colab": {
          "base_uri": "https://localhost:8080/"
        },
        "id": "MJAeIQ0UC2zj",
        "outputId": "f08df293-5f71-4d41-b422-fc2c83831527"
      },
      "execution_count": null,
      "outputs": [
        {
          "output_type": "stream",
          "name": "stdout",
          "text": [
            "Archive:  /content/Testfile.zip\n",
            "replace Test/139_1b1_Pr_sc_Litt3200.txt? [y]es, [n]o, [A]ll, [N]one, [r]ename: y\n",
            "  inflating: Test/139_1b1_Pr_sc_Litt3200.txt  \n",
            "replace Test/124_1b1_Al_sc_Litt3200.txt? [y]es, [n]o, [A]ll, [N]one, [r]ename: y\n",
            "  inflating: Test/124_1b1_Al_sc_Litt3200.txt  \n",
            "replace Test/156_2b3_Al_mc_AKGC417L.txt? [y]es, [n]o, [A]ll, [N]one, [r]ename: y\n",
            "  inflating: Test/156_2b3_Al_mc_AKGC417L.txt  \n",
            "replace Test/133_2p3_Al_mc_AKGC417L.txt? [y]es, [n]o, [A]ll, [N]one, [r]ename: y\n",
            "  inflating: Test/133_2p3_Al_mc_AKGC417L.txt  \n",
            "replace Test/139_1b1_Pr_sc_Litt3200.wav? [y]es, [n]o, [A]ll, [N]one, [r]ename: y\n",
            "  inflating: Test/139_1b1_Pr_sc_Litt3200.wav  \n",
            "replace Test/124_1b1_Al_sc_Litt3200.wav? [y]es, [n]o, [A]ll, [N]one, [r]ename: y\n",
            "  inflating: Test/124_1b1_Al_sc_Litt3200.wav  \n",
            "replace Test/118_1b1_Lr_sc_Litt3200.wav? [y]es, [n]o, [A]ll, [N]one, [r]ename: y\n",
            "  inflating: Test/118_1b1_Lr_sc_Litt3200.wav  \n",
            "replace Test/133_2p3_Al_mc_AKGC417L.wav? [y]es, [n]o, [A]ll, [N]one, [r]ename: y\n",
            "  inflating: Test/133_2p3_Al_mc_AKGC417L.wav  \n",
            "replace Test/156_2b3_Al_mc_AKGC417L.wav? [y]es, [n]o, [A]ll, [N]one, [r]ename: y\n",
            "  inflating: Test/156_2b3_Al_mc_AKGC417L.wav  \n",
            "replace Test/160_1b3_Al_mc_AKGC417L.wav? [y]es, [n]o, [A]ll, [N]one, [r]ename: y\n",
            "  inflating: Test/160_1b3_Al_mc_AKGC417L.wav  \n",
            "replace Test/118_1b1_Lr_sc_Litt3200.txt? [y]es, [n]o, [A]ll, [N]one, [r]ename: y\n",
            "  inflating: Test/118_1b1_Lr_sc_Litt3200.txt  \n",
            "replace Test/160_1b3_Al_mc_AKGC417L.txt? [y]es, [n]o, [A]ll, [N]one, [r]ename: y\n",
            "  inflating: Test/160_1b3_Al_mc_AKGC417L.txt  \n"
          ]
        }
      ]
    },
    {
      "cell_type": "code",
      "source": [
        "def extract(file_path):\n",
        "    # Load audio file\n",
        "    audio, sample_rate = librosa.load(file_path, duration=20)\n",
        "\n",
        "    # Convert audio to spectrogram\n",
        "    spectrogram = librosa.feature.melspectrogram(y=audio, sr=sample_rate, n_mels=128, hop_length=512, n_fft=2048)\n",
        "\n",
        "    # Convert spectrogram to log scale (dB)\n",
        "    log_spectrogram = librosa.amplitude_to_db(spectrogram, ref=np.max)\n",
        "\n",
        "    return log_spectrogram.T"
      ],
      "metadata": {
        "id": "6FOQGHwpDSbV"
      },
      "execution_count": null,
      "outputs": []
    },
    {
      "cell_type": "code",
      "source": [
        "## Getting all the Audio and Text file names\n",
        "directory = '/content/Test'\n",
        "audio_file_names=[]\n",
        "text_file_names=[]\n",
        "for file in os.listdir(directory):\n",
        "  if file.endswith('.wav'):\n",
        "    audio_file_names.append(os.path.join(directory,file))\n",
        "    name=file.split('.')[0]\n",
        "    text_file_names.append(os.path.join(directory,name + '.txt'))"
      ],
      "metadata": {
        "id": "9pNRPKHIDWa2"
      },
      "execution_count": null,
      "outputs": []
    },
    {
      "cell_type": "code",
      "source": [
        "df=pd.read_csv(text_file_names[1], sep='\\t', header=None, names=['start_time', 'end_time'])\n",
        "df"
      ],
      "metadata": {
        "id": "oIfkJ1hYUMZK"
      },
      "execution_count": null,
      "outputs": []
    },
    {
      "cell_type": "code",
      "source": [
        "audio_features=[]\n",
        "\n",
        "# audio_labels=[]\n",
        "for index in range(len(audio_file_names)):\n",
        "\n",
        "  ## here we are receiving the features from the audio files as an array of size 128 X 862\n",
        "  spec = extract(audio_file_names[index])\n",
        "\n",
        "  # ## Now we need to read each corresponding text files for the labels of crackles and wheezes\n",
        "  df=pd.read_csv(text_file_names[index], sep='\\t', header=None, names=['start_time', 'end_time',''])\n",
        "  # temp_label=[0,0]\n",
        "  for i, row in df.iterrows():\n",
        "\n",
        "  #   ## The start and end time are float values so we convert them into proper int values so as to take proper segments from it\n",
        "    start_idx = int(float(row['start_time']) / 0.04644)\n",
        "    end_idx = int(float(row['end_time']) / 0.04644)\n",
        "    # if row['crackle']==1:\n",
        "    #   temp_label[0]=1\n",
        "    # if row['wheeze']==1:\n",
        "    #   temp_label[1]=1\n",
        "    # audio_labels.append(temp_label)\n",
        "\n",
        "    ## now that we have our labels we map the segment of the audio features array to its corresponding label\n",
        "    ## we do this so that our model can understand which feature is a crackle and which is a wheeze\n",
        "    audio_frame = spec[:, start_idx:end_idx]\n",
        "    audio_features.append(spec)\n"
      ],
      "metadata": {
        "id": "5xsb0f1kDX69"
      },
      "execution_count": null,
      "outputs": []
    },
    {
      "cell_type": "code",
      "source": [
        "# Convert the list of features and labels to numpy arrays\n",
        "max_len = 390  # 20s / (512/22050) ≈ 390\n",
        "audio_features = np.zeros((len(audio_features), 128, max_len))\n",
        "for i in range(len(audio_features)):\n",
        "    audio_features[i] = librosa.util.fix_length(audio_features[i], size=max_len, axis=1)\n",
        "audio_features = np.expand_dims(audio_features, axis=-1)\n",
        "# audio_labels = np.array(audio_labels)"
      ],
      "metadata": {
        "id": "oPJVgi09EHoU"
      },
      "execution_count": null,
      "outputs": []
    },
    {
      "cell_type": "code",
      "source": [
        "import tensorflow as tf\n",
        "\n",
        "# Convert the numpy array to a TensorFlow tensor\n",
        "features_tensor = tf.convert_to_tensor(audio_features)"
      ],
      "metadata": {
        "id": "yQloo5_mEjWu"
      },
      "execution_count": null,
      "outputs": []
    },
    {
      "cell_type": "code",
      "source": [],
      "metadata": {
        "id": "TF7sbNXDVr7M"
      },
      "execution_count": null,
      "outputs": []
    },
    {
      "cell_type": "code",
      "source": [
        "new_model = tf.keras.models.load_model('/content/drive/MyDrive/MosaicPS1/model.h5')"
      ],
      "metadata": {
        "id": "I_UAt9-OEOFs"
      },
      "execution_count": null,
      "outputs": []
    },
    {
      "cell_type": "code",
      "source": [
        "y_pred = new_model.predict(audio_features)"
      ],
      "metadata": {
        "id": "0gQHsK-xFZZO",
        "colab": {
          "base_uri": "https://localhost:8080/"
        },
        "outputId": "605979a2-e2e0-47a6-d849-5691de9ef71b"
      },
      "execution_count": null,
      "outputs": [
        {
          "output_type": "stream",
          "name": "stdout",
          "text": [
            "1/1 [==============================] - 7s 7s/step\n"
          ]
        }
      ]
    },
    {
      "cell_type": "code",
      "source": [
        "y_pred"
      ],
      "metadata": {
        "id": "FeFNlh5QPQyo",
        "colab": {
          "base_uri": "https://localhost:8080/"
        },
        "outputId": "cd0d193e-5540-4fa0-9b16-7e433841f907"
      },
      "execution_count": null,
      "outputs": [
        {
          "output_type": "execute_result",
          "data": {
            "text/plain": [
              "array([[0.51615775, 0.4785738 ],\n",
              "       [0.51615775, 0.4785738 ],\n",
              "       [0.51615775, 0.4785738 ],\n",
              "       [0.51615775, 0.4785738 ],\n",
              "       [0.51615775, 0.4785738 ],\n",
              "       [0.51615775, 0.4785738 ],\n",
              "       [0.51615775, 0.4785738 ],\n",
              "       [0.51615775, 0.4785738 ],\n",
              "       [0.51615775, 0.4785738 ],\n",
              "       [0.51615775, 0.4785738 ],\n",
              "       [0.51615775, 0.4785738 ],\n",
              "       [0.51615775, 0.4785738 ],\n",
              "       [0.51615775, 0.4785738 ],\n",
              "       [0.51615775, 0.4785738 ],\n",
              "       [0.51615775, 0.4785738 ],\n",
              "       [0.51615775, 0.4785738 ],\n",
              "       [0.51615775, 0.4785738 ],\n",
              "       [0.51615775, 0.4785738 ],\n",
              "       [0.51615775, 0.4785738 ],\n",
              "       [0.51615775, 0.4785738 ]], dtype=float32)"
            ]
          },
          "metadata": {},
          "execution_count": 14
        }
      ]
    },
    {
      "cell_type": "code",
      "source": [],
      "metadata": {
        "id": "ploR-gvNR9wU"
      },
      "execution_count": null,
      "outputs": []
    },
    {
      "cell_type": "code",
      "source": [],
      "metadata": {
        "id": "569D3_n9Fyx3"
      },
      "execution_count": null,
      "outputs": []
    }
  ]
}